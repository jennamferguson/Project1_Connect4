{
 "cells": [
  {
   "cell_type": "code",
   "execution_count": 12,
   "metadata": {},
   "outputs": [],
   "source": [
    "import pandas as pd\n",
    "import numpy as np\n",
    "import pickle\n",
    "from IPython.display import clear_output"
   ]
  },
  {
   "cell_type": "code",
   "execution_count": 13,
   "metadata": {},
   "outputs": [
    {
     "name": "stdout",
     "output_type": "stream",
     "text": [
      "   0     1     2     3     4     5     6\n",
      "-------------------------------------------\n",
      "|     |     |     |     |     |     |     |\n",
      "|     |     |  O  |  X  |     |     |     |\n",
      "|     |     |     |     |     |     |     |\n",
      "-------------------------------------------\n",
      "|     |     |     |     |     |     |     |\n",
      "|     |     |  X  |  O  |     |     |     |\n",
      "|     |     |     |     |     |     |     |\n",
      "-------------------------------------------\n",
      "|     |     |     |     |     |     |     |\n",
      "|     |     |  X  |  X  |  O  |     |     |\n",
      "|     |     |     |     |     |     |     |\n",
      "-------------------------------------------\n",
      "|     |     |     |     |     |     |     |\n",
      "|     |     |  O  |  X  |  X  |     |     |\n",
      "|     |     |     |     |     |     |     |\n",
      "-------------------------------------------\n",
      "|     |     |     |     |     |     |     |\n",
      "|  O  |  O  |  X  |  O  |  O  |     |     |\n",
      "|     |     |     |     |     |     |     |\n",
      "-------------------------------------------\n",
      "|     |     |     |     |     |     |     |\n",
      "|  X  |  O  |  X  |  X  |  O  |     |     |\n",
      "|     |     |     |     |     |     |     |\n",
      "-------------------------------------------\n",
      "   0     1     2     3     4     5     6\n"
     ]
    }
   ],
   "source": [
    "# read in dataset.pkl\n",
    "with open('dataset3.pkl', 'rb') as f:\n",
    "    dataset = pickle.load(f)\n",
    "\n",
    "print(dataset[20])\n",
    "display_board_2(dataset[20]['board'])"
   ]
  },
  {
   "cell_type": "code",
   "execution_count": 14,
   "metadata": {},
   "outputs": [
    {
     "data": {
      "text/plain": [
       "22113"
      ]
     },
     "execution_count": 14,
     "metadata": {},
     "output_type": "execute_result"
    }
   ],
   "source": [
    "#length of dataset  \n",
    "len(dataset)"
   ]
  },
  {
   "cell_type": "code",
   "execution_count": 7,
   "metadata": {},
   "outputs": [],
   "source": [
    "def display_board(board):\n",
    "    # this function displays the board as ascii using X for +1 and O for -1\n",
    "    # For the project, this should be a better picture of the board...\n",
    "    clear_output()\n",
    "    horizontal_line = '-'*(7*5+8)\n",
    "    blank_line = '|'+' '*5\n",
    "    blank_line *= 7\n",
    "    blank_line += '|'\n",
    "    print('   0     1     2     3     4     5     6')\n",
    "    print(horizontal_line)\n",
    "    for row in range(6):\n",
    "        print(blank_line)\n",
    "        this_line = '|'\n",
    "        for col in range(7):\n",
    "            if board[row,col] == 0:\n",
    "                this_line += ' '*5 + '|'\n",
    "            elif board[row,col] == 1:\n",
    "                this_line += '  X  |'\n",
    "            else:\n",
    "                this_line += '  O  |'\n",
    "        print(this_line)\n",
    "        print(blank_line)\n",
    "        print(horizontal_line)\n",
    "    print('   0     1     2     3     4     5     6')\n",
    "\n",
    "            "
   ]
  },
  {
   "cell_type": "code",
   "execution_count": 10,
   "metadata": {},
   "outputs": [],
   "source": [
    "def display_board_2(board_6x7x2):\n",
    "    \"\"\"\n",
    "    Displays a 6x7x2 board in ASCII format using X for +1 and O for -1.\n",
    "    board_6x7x2: numpy array of shape (6, 7, 2), where:\n",
    "        - board_6x7x2[i, j, 0] = 1 indicates a 'plus' piece at (i, j)\n",
    "        - board_6x7x2[i, j, 1] = 1 indicates a 'minus' piece at (i, j)\n",
    "        - Both are 0 for an empty spot\n",
    "    \"\"\"\n",
    "    clear_output()\n",
    "    horizontal_line = '-' * (7 * 5 + 8)\n",
    "    blank_line = '|' + ' ' * 5\n",
    "    blank_line *= 7\n",
    "    blank_line += '|'\n",
    "    \n",
    "    print('   0     1     2     3     4     5     6')\n",
    "    print(horizontal_line)\n",
    "    \n",
    "    for row in range(6):\n",
    "        print(blank_line)\n",
    "        this_line = '|'\n",
    "        for col in range(7):\n",
    "            if board_6x7x2[row, col, 0] == 1:  # 'plus' piece\n",
    "                this_line += '  X  |'\n",
    "            elif board_6x7x2[row, col, 1] == 1:  # 'minus' piece\n",
    "                this_line += '  O  |'\n",
    "            else:  # Empty spot\n",
    "                this_line += '     |'\n",
    "        print(this_line)\n",
    "        print(blank_line)\n",
    "        print(horizontal_line)\n",
    "    \n",
    "    print('   0     1     2     3     4     5     6')\n"
   ]
  },
  {
   "cell_type": "code",
   "execution_count": 11,
   "metadata": {},
   "outputs": [
    {
     "name": "stdout",
     "output_type": "stream",
     "text": [
      "   0     1     2     3     4     5     6\n",
      "-------------------------------------------\n",
      "|     |     |     |     |     |     |     |\n",
      "|     |     |  O  |  X  |     |     |     |\n",
      "|     |     |     |     |     |     |     |\n",
      "-------------------------------------------\n",
      "|     |     |     |     |     |     |     |\n",
      "|     |     |  X  |  O  |     |     |     |\n",
      "|     |     |     |     |     |     |     |\n",
      "-------------------------------------------\n",
      "|     |     |     |     |     |     |     |\n",
      "|     |     |  X  |  X  |  O  |     |     |\n",
      "|     |     |     |     |     |     |     |\n",
      "-------------------------------------------\n",
      "|     |     |     |     |     |     |     |\n",
      "|     |     |  O  |  X  |  X  |     |     |\n",
      "|     |     |     |     |     |     |     |\n",
      "-------------------------------------------\n",
      "|     |     |     |     |     |     |     |\n",
      "|  O  |  O  |  X  |  O  |  O  |     |     |\n",
      "|     |     |     |     |     |     |     |\n",
      "-------------------------------------------\n",
      "|     |     |     |     |     |     |     |\n",
      "|  X  |  O  |  X  |  X  |  O  |     |     |\n",
      "|     |     |     |     |     |     |     |\n",
      "-------------------------------------------\n",
      "   0     1     2     3     4     5     6\n"
     ]
    }
   ],
   "source": [
    "display_board_2(dataset[20]['board'])"
   ]
  },
  {
   "cell_type": "code",
   "execution_count": 10,
   "metadata": {},
   "outputs": [
    {
     "name": "stdout",
     "output_type": "stream",
     "text": [
      "   0     1     2     3     4     5     6\n",
      "-------------------------------------------\n",
      "|     |     |     |     |     |     |     |\n",
      "|     |     |     |  X  |  O  |     |     |\n",
      "|     |     |     |     |     |     |     |\n",
      "-------------------------------------------\n",
      "|     |     |     |     |     |     |     |\n",
      "|     |     |  X  |  O  |  X  |     |     |\n",
      "|     |     |     |     |     |     |     |\n",
      "-------------------------------------------\n",
      "|     |     |     |     |     |     |     |\n",
      "|     |     |  X  |  O  |  O  |  O  |     |\n",
      "|     |     |     |     |     |     |     |\n",
      "-------------------------------------------\n",
      "|     |     |     |     |     |     |     |\n",
      "|     |     |  O  |  X  |  X  |  X  |     |\n",
      "|     |     |     |     |     |     |     |\n",
      "-------------------------------------------\n",
      "|     |     |     |     |     |     |     |\n",
      "|  O  |     |  O  |  X  |  O  |  X  |     |\n",
      "|     |     |     |     |     |     |     |\n",
      "-------------------------------------------\n",
      "|     |     |     |     |     |     |     |\n",
      "|  X  |     |  X  |  O  |  O  |  X  |     |\n",
      "|     |     |     |     |     |     |     |\n",
      "-------------------------------------------\n",
      "   0     1     2     3     4     5     6\n",
      "None\n",
      "2\n",
      "1\n"
     ]
    }
   ],
   "source": [
    "# print board in row 20 of dataset\n",
    "from IPython.display import clear_output\n",
    "print(display_board_2(dataset[22]['board']))\n",
    "print(dataset[21]['recommended_column'])\n",
    "print(dataset[21]['player'])    "
   ]
  },
  {
   "cell_type": "code",
   "execution_count": null,
   "metadata": {},
   "outputs": [],
   "source": []
  }
 ],
 "metadata": {
  "kernelspec": {
   "display_name": "base",
   "language": "python",
   "name": "python3"
  },
  "language_info": {
   "codemirror_mode": {
    "name": "ipython",
    "version": 3
   },
   "file_extension": ".py",
   "mimetype": "text/x-python",
   "name": "python",
   "nbconvert_exporter": "python",
   "pygments_lexer": "ipython3",
   "version": "3.12.2"
  }
 },
 "nbformat": 4,
 "nbformat_minor": 2
}
