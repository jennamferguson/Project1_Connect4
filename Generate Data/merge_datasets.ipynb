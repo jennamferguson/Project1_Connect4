{
 "cells": [
  {
   "cell_type": "code",
   "execution_count": 7,
   "metadata": {},
   "outputs": [],
   "source": [
    "import pickle\n",
    "import numpy as np\n",
    "from IPython.display import clear_output"
   ]
  },
  {
   "cell_type": "markdown",
   "metadata": {},
   "source": [
    "# Combine .pkl files from scratch"
   ]
  },
  {
   "cell_type": "code",
   "execution_count": 8,
   "metadata": {},
   "outputs": [
    {
     "name": "stdout",
     "output_type": "stream",
     "text": [
      "Merged dataset contains 128079 elements\n"
     ]
    }
   ],
   "source": [
    "# list of files\n",
    "pkl_files = [\"jenna1.pkl\", \"jenna2.pkl\", \"John.pkl\", \"mallika.pkl\", \"nawen.pkl\"]\n",
    "\n",
    "merged_data = []\n",
    "\n",
    "#load and merge datasets\n",
    "for file in pkl_files:\n",
    "    with open(file, \"rb\") as f:\n",
    "        data = pickle.load(f)  \n",
    "        merged_data.extend(data)  \n",
    "\n",
    "#save\n",
    "with open(\"merged_dataset.pkl\", \"wb\") as f:\n",
    "    pickle.dump(merged_data, f)\n",
    "\n",
    "# length of merged dataset\n",
    "print(f\"Merged dataset contains {len(merged_data)} elements\")\n"
   ]
  },
  {
   "cell_type": "markdown",
   "metadata": {},
   "source": [
    "# Add onto merged_dataset.pkl"
   ]
  },
  {
   "cell_type": "code",
   "execution_count": null,
   "metadata": {},
   "outputs": [],
   "source": [
    "import pickle\n",
    "\n",
    "# Manually update this list with new dataset files each time\n",
    "pkl_files = [\"filenames.pkl\", \"list\"]\n",
    "\n",
    "# Load existing merged dataset\n",
    "with open(\"merged_dataset.pkl\", \"rb\") as f:\n",
    "    merged_data = pickle.load(f)\n",
    "print(f\"Loaded merged dataset with {len(merged_data)} elements.\")\n",
    "\n",
    "# Load and append new data\n",
    "for file in pkl_files:\n",
    "    with open(file, \"rb\") as f:\n",
    "        data = pickle.load(f)\n",
    "        merged_data.extend(data)  # Append new entries\n",
    "\n",
    "# Save the updated dataset\n",
    "with open(\"merged_dataset.pkl\", \"wb\") as f:\n",
    "    pickle.dump(merged_data, f)\n",
    "\n",
    "print(f\"Updated merged dataset now contains {len(merged_data)} elements.\")\n"
   ]
  },
  {
   "cell_type": "markdown",
   "metadata": {},
   "source": [
    "## Visual Check"
   ]
  },
  {
   "cell_type": "code",
   "execution_count": 3,
   "metadata": {},
   "outputs": [],
   "source": [
    "def display_board(board):\n",
    "    # this function displays the board as ascii using X for +1 and O for -1\n",
    "    # For the project, this should be a better picture of the board...\n",
    "    clear_output()\n",
    "    horizontal_line = '-'*(7*5+8)\n",
    "    blank_line = '|'+' '*5\n",
    "    blank_line *= 7\n",
    "    blank_line += '|'\n",
    "    print('   0     1     2     3     4     5     6')\n",
    "    print(horizontal_line)\n",
    "    for row in range(6):\n",
    "        print(blank_line)\n",
    "        this_line = '|'\n",
    "        for col in range(7):\n",
    "            if board[row,col] == 0:\n",
    "                this_line += ' '*5 + '|'\n",
    "            elif board[row,col] == 1:\n",
    "                this_line += '  X  |'\n",
    "            else:\n",
    "                this_line += '  O  |'\n",
    "        print(this_line)\n",
    "        print(blank_line)\n",
    "        print(horizontal_line)\n",
    "    print('   0     1     2     3     4     5     6')\n",
    "\n",
    "            "
   ]
  },
  {
   "cell_type": "code",
   "execution_count": 4,
   "metadata": {},
   "outputs": [],
   "source": [
    "def display_board_2(board_6x7x2):\n",
    "    \"\"\"\n",
    "    Displays a 6x7x2 board in ASCII format using X for +1 and O for -1.\n",
    "    board_6x7x2: numpy array of shape (6, 7, 2), where:\n",
    "        - board_6x7x2[i, j, 0] = 1 indicates a 'plus' piece at (i, j)\n",
    "        - board_6x7x2[i, j, 1] = 1 indicates a 'minus' piece at (i, j)\n",
    "        - Both are 0 for an empty spot\n",
    "    \"\"\"\n",
    "    clear_output()\n",
    "    horizontal_line = '-' * (7 * 5 + 8)\n",
    "    blank_line = '|' + ' ' * 5\n",
    "    blank_line *= 7\n",
    "    blank_line += '|'\n",
    "    \n",
    "    print('   0     1     2     3     4     5     6')\n",
    "    print(horizontal_line)\n",
    "    \n",
    "    for row in range(6):\n",
    "        print(blank_line)\n",
    "        this_line = '|'\n",
    "        for col in range(7):\n",
    "            if board_6x7x2[row, col, 0] == 1:  # 'plus' piece\n",
    "                this_line += '  X  |'\n",
    "            elif board_6x7x2[row, col, 1] == 1:  # 'minus' piece\n",
    "                this_line += '  O  |'\n",
    "            else:  # Empty spot\n",
    "                this_line += '     |'\n",
    "        print(this_line)\n",
    "        print(blank_line)\n",
    "        print(horizontal_line)\n",
    "    \n",
    "    print('   0     1     2     3     4     5     6')\n"
   ]
  },
  {
   "cell_type": "code",
   "execution_count": 13,
   "metadata": {},
   "outputs": [
    {
     "name": "stdout",
     "output_type": "stream",
     "text": [
      "   0     1     2     3     4     5     6\n",
      "-------------------------------------------\n",
      "|     |     |     |     |     |     |     |\n",
      "|     |     |     |  O  |     |     |     |\n",
      "|     |     |     |     |     |     |     |\n",
      "-------------------------------------------\n",
      "|     |     |     |     |     |     |     |\n",
      "|     |     |  O  |  X  |     |     |  O  |\n",
      "|     |     |     |     |     |     |     |\n",
      "-------------------------------------------\n",
      "|     |     |     |     |     |     |     |\n",
      "|  O  |     |  X  |  O  |     |     |  X  |\n",
      "|     |     |     |     |     |     |     |\n",
      "-------------------------------------------\n",
      "|     |     |     |     |     |     |     |\n",
      "|  X  |  X  |  O  |  O  |     |     |  O  |\n",
      "|     |     |     |     |     |     |     |\n",
      "-------------------------------------------\n",
      "|     |     |     |     |     |     |     |\n",
      "|  O  |  O  |  X  |  X  |     |     |  X  |\n",
      "|     |     |     |     |     |     |     |\n",
      "-------------------------------------------\n",
      "|     |     |     |     |     |     |     |\n",
      "|  X  |  X  |  O  |  X  |     |  X  |  O  |\n",
      "|     |     |     |     |     |     |     |\n",
      "-------------------------------------------\n",
      "   0     1     2     3     4     5     6\n"
     ]
    }
   ],
   "source": [
    "display_board_2(merged_data[100001]['board'])"
   ]
  },
  {
   "cell_type": "code",
   "execution_count": 14,
   "metadata": {},
   "outputs": [
    {
     "name": "stdout",
     "output_type": "stream",
     "text": [
      "2\n",
      "-1\n"
     ]
    }
   ],
   "source": [
    "print(merged_data[100001]['recommended_column'])\n",
    "print(merged_data[100001]['player'])    "
   ]
  }
 ],
 "metadata": {
  "kernelspec": {
   "display_name": "base",
   "language": "python",
   "name": "python3"
  },
  "language_info": {
   "codemirror_mode": {
    "name": "ipython",
    "version": 3
   },
   "file_extension": ".py",
   "mimetype": "text/x-python",
   "name": "python",
   "nbconvert_exporter": "python",
   "pygments_lexer": "ipython3",
   "version": "3.12.2"
  }
 },
 "nbformat": 4,
 "nbformat_minor": 2
}
